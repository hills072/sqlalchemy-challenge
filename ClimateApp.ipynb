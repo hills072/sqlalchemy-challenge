{
 "cells": [
  {
   "cell_type": "code",
   "execution_count": null,
   "metadata": {},
   "outputs": [],
   "source": [
    "#import flask and jsonify; create Flask server\n",
    "from flask import Flask, jsonify\n",
    "app = Flask(__name__)\n",
    "\n",
    "# print query of Station to pull out translated SQL code for the query to find column names\n",
    "# print(session.query(Station))\n",
    "\n",
    "\n",
    "\n",
    "@app.route(\"/\")\n",
    "def welcome():\n",
    "    return (\n",
    "        f\"Routes To Station Data:<br/>\"\n",
    "        f\"/api/climate/measurement<br/>\"\n",
    "        f\"/api/climate/station\"\n",
    "    )\n",
    "\n",
    "# Design a query to calculate the total number stations in the dataset\n",
    "\n",
    "@app.route(\"/api/climate/station\")\n",
    "def TotalStations():\n",
    "    \n",
    "    session = Session(engine)\n",
    "    \n",
    "    total_stations = len(session.query(Station).all())\n",
    "    print(f'There are {total_stations} total stations.')\n",
    "\n",
    "if __name__ == '__main__':\n",
    "    app.run(debug=True)"
   ]
  }
 ],
 "metadata": {
  "kernelspec": {
   "display_name": "Python 3",
   "language": "python",
   "name": "python3"
  },
  "language_info": {
   "codemirror_mode": {
    "name": "ipython",
    "version": 3
   },
   "file_extension": ".py",
   "mimetype": "text/x-python",
   "name": "python",
   "nbconvert_exporter": "python",
   "pygments_lexer": "ipython3",
   "version": "3.8.5"
  }
 },
 "nbformat": 4,
 "nbformat_minor": 4
}
